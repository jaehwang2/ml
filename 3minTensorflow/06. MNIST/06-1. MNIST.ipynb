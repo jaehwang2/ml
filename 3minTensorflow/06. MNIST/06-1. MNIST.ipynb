{
 "cells": [
  {
   "cell_type": "code",
   "execution_count": 5,
   "metadata": {},
   "outputs": [
    {
     "name": "stdout",
     "output_type": "stream",
     "text": [
      "Extracting ./mnist/data/train-images-idx3-ubyte.gz\n",
      "Extracting ./mnist/data/train-labels-idx1-ubyte.gz\n",
      "Extracting ./mnist/data/t10k-images-idx3-ubyte.gz\n",
      "Extracting ./mnist/data/t10k-labels-idx1-ubyte.gz\n",
      "Tensor(\"MatMul_14:0\", shape=(?, 10), dtype=float32)\n",
      "epoch : 0001 Avg. cost = 0.404\n",
      "epoch : 0002 Avg. cost = 0.144\n",
      "epoch : 0003 Avg. cost = 0.095\n",
      "epoch : 0004 Avg. cost = 0.067\n",
      "epoch : 0005 Avg. cost = 0.052\n",
      "epoch : 0006 Avg. cost = 0.040\n",
      "epoch : 0007 Avg. cost = 0.030\n",
      "epoch : 0008 Avg. cost = 0.024\n",
      "epoch : 0009 Avg. cost = 0.019\n",
      "epoch : 0010 Avg. cost = 0.017\n",
      "epoch : 0011 Avg. cost = 0.017\n",
      "epoch : 0012 Avg. cost = 0.015\n",
      "epoch : 0013 Avg. cost = 0.011\n",
      "epoch : 0014 Avg. cost = 0.010\n",
      "epoch : 0015 Avg. cost = 0.010\n",
      "Accuracy :  0.9799\n"
     ]
    }
   ],
   "source": [
    "import tensorflow as tf\n",
    "from tensorflow.examples.tutorials.mnist import input_data\n",
    "\n",
    "mnist = input_data.read_data_sets(\"./mnist/data/\", one_hot=True)\n",
    "\n",
    "X = tf.placeholder(tf.float32, [None, 784])\n",
    "Y = tf.placeholder(tf.float32, [None, 10])\n",
    "\n",
    "W1 = tf.Variable(tf.random_normal([784, 256], stddev=0.01))\n",
    "L1 = tf.nn.relu(tf.matmul(X, W1))\n",
    "\n",
    "W2 = tf.Variable(tf.random_normal([256, 256], stddev=0.01))\n",
    "L2 = tf.nn.relu(tf.matmul(L1, W2))\n",
    "\n",
    "W3 = tf.Variable(tf.random_normal([256, 10], stddev=0.01))\n",
    "model = tf.matmul(L2, W3)\n",
    "print(model)\n",
    "cost = tf.reduce_mean(tf.nn.softmax_cross_entropy_with_logits_v2(logits=model, labels=Y))\n",
    "optimizer = tf.train.AdamOptimizer(0.001).minimize(cost)\n",
    "\n",
    "\n",
    "init = tf.global_variables_initializer()\n",
    "sess = tf.Session()\n",
    "sess.run(init)\n",
    "\n",
    "batch_size = 100\n",
    "total_batch = int(mnist.train.num_examples / batch_size)\n",
    "\n",
    "\n",
    "\n",
    "for epoch in range(15):\n",
    "    total_cost = 0\n",
    "    \n",
    "    for i in range(total_batch):\n",
    "        x_batch, y_batch = mnist.train.next_batch(batch_size)\n",
    "        _, cost_val = sess.run([optimizer ,cost], feed_dict={X: x_batch, Y: y_batch})\n",
    "        \n",
    "        total_cost += cost_val\n",
    "\n",
    "    print(\"epoch : %04d\" % (epoch + 1), \"Avg. cost = %.3f\" % (total_cost/total_batch))\n",
    "        \n",
    "is_correct = tf.equal(tf.argmax(model, 1), tf.argmax(Y, 1))\n",
    "accuracy = tf.reduce_mean(tf.cast(is_correct, tf.float32))\n",
    "print(\"Accuracy : \" , (sess.run(accuracy, feed_dict = {X: mnist.test.images, Y: mnist.test.labels})))\n",
    "        "
   ]
  },
  {
   "cell_type": "code",
   "execution_count": null,
   "metadata": {},
   "outputs": [],
   "source": []
  }
 ],
 "metadata": {
  "kernelspec": {
   "display_name": "Python 3",
   "language": "python",
   "name": "python3"
  },
  "language_info": {
   "codemirror_mode": {
    "name": "ipython",
    "version": 3
   },
   "file_extension": ".py",
   "mimetype": "text/x-python",
   "name": "python",
   "nbconvert_exporter": "python",
   "pygments_lexer": "ipython3",
   "version": "3.6.5"
  }
 },
 "nbformat": 4,
 "nbformat_minor": 2
}
