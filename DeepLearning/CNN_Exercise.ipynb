{
 "cells": [
  {
   "cell_type": "code",
   "execution_count": 4,
   "metadata": {},
   "outputs": [
    {
     "name": "stdout",
     "output_type": "stream",
     "text": [
      "3\n"
     ]
    }
   ],
   "source": [
    "print(3)"
   ]
  },
  {
   "cell_type": "code",
   "execution_count": 16,
   "metadata": {},
   "outputs": [
    {
     "name": "stdout",
     "output_type": "stream",
     "text": [
      "image.shape (1, 3, 3, 1)\n",
      "weight.shpae (2, 2, 1, 1)\n",
      "conv2d img.shape (1, 2, 2, 1)\n",
      "[[12. 16.]\n",
      " [24. 28.]]\n"
     ]
    },
    {
     "data": {
      "image/png": "[encoded data removed]",
      "text/plain": [
       "<Figure size 432x288 with 1 Axes>"
      ]
     },
     "metadata": {
      "needs_background": "light"
     },
     "output_type": "display_data"
    }
   ],
   "source": [
    "import tensorflow as tf\n",
    "import numpy as np\n",
    "import matplotlib.pyplot as plt\n",
    "\n",
    "sess = tf.InteractiveSession()\n",
    "image = np.array([[[[1],[2],[3]],[[4],[5],[6]],[[7],[8],[9]]]], dtype=np.float32)\n",
    "print(\"image.shape\", image.shape)\n",
    "\n",
    "weight = tf.constant([[[[1.]],[[1.]]],[[[1.]],[[1.]]]])\n",
    "print(\"weight.shpae\", weight.shape)\n",
    "conv2d = tf.nn.conv2d(image, weight, strides=[1,1,1,1], padding='VALID')\n",
    "conv2d_img = conv2d.eval()\n",
    "print(\"conv2d img.shape\", conv2d_img.shape)\n",
    "conv2d_img = np.swapaxes(conv2d_img, 0, 3)\n",
    "for i, one_img in enumerate(conv2d_img):\n",
    "    print(one_img.reshape(2,2))\n",
    "    plt.subplot(1,2,i+1), plt.imshow(one_img.reshape(2,2), cmap='gray')\n",
    "\n",
    "\n",
    "# sess = tf.InteractiveSession()\n",
    "# image = np.array([[[1],[2],[3]],[[4],[5],[6]],[[7],[8],[9]]])\n",
    "# print(image.shape)\n",
    "# plt.imshow(image.reshape(3,3), cmap=\"Greys\")"
   ]
  },
  {
   "cell_type": "code",
   "execution_count": 3,
   "metadata": {},
   "outputs": [
    {
     "data": {
      "text/plain": [
       "array([1, 1, 2, 2])"
      ]
     },
     "execution_count": 3,
     "metadata": {},
     "output_type": "execute_result"
    }
   ],
   "source": [
    "import numpy as np\n",
    "np.repeat(np.array([1,2]),2)"
   ]
  },
  {
   "cell_type": "code",
   "execution_count": 4,
   "metadata": {},
   "outputs": [
    {
     "data": {
      "text/plain": [
       "array([[2, 3],\n",
       "       [3, 4]])"
      ]
     },
     "execution_count": 4,
     "metadata": {},
     "output_type": "execute_result"
    }
   ],
   "source": [
    "np.array([[1,2]]) + np.array([[1],[2]])"
   ]
  },
  {
   "cell_type": "code",
   "execution_count": 74,
   "metadata": {},
   "outputs": [],
   "source": [
    "def get_im2col_indices(x_shape, field_height, field_width, padding=1, stride=1):\n",
    "    # First figure out what the size of the output should be\n",
    "    N, C, H, W = x_shape\n",
    "    assert (H + 2 * padding - field_height) % stride == 0\n",
    "    assert (W + 2 * padding - field_height) % stride == 0\n",
    "    out_height = (H + 2 * padding - field_height) / stride + 1\n",
    "    out_width = (W + 2 * padding - field_width) / stride + 1\n",
    "    \n",
    "    i0 = np.repeat(np.arange(field_height), field_width)\n",
    "    i0 = np.tile(i0, C)\n",
    "    i1 = stride * np.repeat(np.arange(out_height), out_width)\n",
    "    \n",
    "    j0 = np.tile(np.arange(field_width), field_height*C)\n",
    "    j1 = stride * np.tile(np.arange(out_width), out_height)\n",
    "    i = i0.reshape(1,-1) + i1.reshape(-1,1)\n",
    "    j = j0.reshape(1,-1) + j1.reshape(-1,1)\n",
    "    k = np.tile(np.repeat(np.arange(C), field_width*field_height), out_width*out_height)\n",
    "    \n",
    "    "
   ]
  },
  {
   "cell_type": "code",
   "execution_count": 75,
   "metadata": {},
   "outputs": [],
   "source": [
    "x = np.arange(120).reshape(2,3,4,5)"
   ]
  },
  {
   "cell_type": "code",
   "execution_count": 76,
   "metadata": {},
   "outputs": [],
   "source": [
    "N, C, H, W = x.shape\n",
    "padding = 0\n",
    "stride = 1\n",
    "field_height = 3\n",
    "field_width = 3\n",
    "assert (H + 2 * padding - field_height) % stride == 0\n",
    "assert (W + 2 * padding - field_height) % stride == 0\n",
    "out_height = (H + 2 * padding - field_height) // stride + 1\n",
    "out_width = (W + 2 * padding - field_width) // stride + 1\n",
    "i0 = np.repeat(np.arange(field_height), field_width)\n",
    "i0 = np.tile(i0, C)\n",
    "i1 = stride * np.repeat(np.arange(out_height), out_width)\n",
    "\n",
    "j0 = np.tile(np.arange(field_width), field_height*C)\n",
    "j1 = stride * np.tile(np.arange(out_width), out_height)\n",
    "i = i0.reshape(1,-1) + i1.reshape(-1,1)\n",
    "j = j0.reshape(1,-1) + j1.reshape(-1,1)\n",
    "k = np.repeat(np.arange(C), field_width*field_height)"
   ]
  },
  {
   "cell_type": "code",
   "execution_count": 79,
   "metadata": {},
   "outputs": [
    {
     "name": "stdout",
     "output_type": "stream",
     "text": [
      "[[[[  0   1   2   3   4]\n",
      "   [  5   6   7   8   9]\n",
      "   [ 10  11  12  13  14]\n",
      "   [ 15  16  17  18  19]]\n",
      "\n",
      "  [[ 20  21  22  23  24]\n",
      "   [ 25  26  27  28  29]\n",
      "   [ 30  31  32  33  34]\n",
      "   [ 35  36  37  38  39]]\n",
      "\n",
      "  [[ 40  41  42  43  44]\n",
      "   [ 45  46  47  48  49]\n",
      "   [ 50  51  52  53  54]\n",
      "   [ 55  56  57  58  59]]]\n",
      "\n",
      "\n",
      " [[[ 60  61  62  63  64]\n",
      "   [ 65  66  67  68  69]\n",
      "   [ 70  71  72  73  74]\n",
      "   [ 75  76  77  78  79]]\n",
      "\n",
      "  [[ 80  81  82  83  84]\n",
      "   [ 85  86  87  88  89]\n",
      "   [ 90  91  92  93  94]\n",
      "   [ 95  96  97  98  99]]\n",
      "\n",
      "  [[100 101 102 103 104]\n",
      "   [105 106 107 108 109]\n",
      "   [110 111 112 113 114]\n",
      "   [115 116 117 118 119]]]]\n",
      "----------\n"
     ]
    },
    {
     "data": {
      "text/plain": [
       "array([[  0,  60,   1,  61,   2,  62,   5,  65,   6,  66,   7,  67],\n",
       "       [ 10,  70,  11,  71,  12,  72,  20,  80,  21,  81,  22,  82],\n",
       "       [ 25,  85,  26,  86,  27,  87,  30,  90,  31,  91,  32,  92],\n",
       "       [ 40, 100,  41, 101,  42, 102,  45, 105,  46, 106,  47, 107],\n",
       "       [ 50, 110,  51, 111,  52, 112,   1,  61,   2,  62,   3,  63],\n",
       "       [  6,  66,   7,  67,   8,  68,  11,  71,  12,  72,  13,  73],\n",
       "       [ 21,  81,  22,  82,  23,  83,  26,  86,  27,  87,  28,  88],\n",
       "       [ 31,  91,  32,  92,  33,  93,  41, 101,  42, 102,  43, 103],\n",
       "       [ 46, 106,  47, 107,  48, 108,  51, 111,  52, 112,  53, 113],\n",
       "       [  2,  62,   3,  63,   4,  64,   7,  67,   8,  68,   9,  69],\n",
       "       [ 12,  72,  13,  73,  14,  74,  22,  82,  23,  83,  24,  84],\n",
       "       [ 27,  87,  28,  88,  29,  89,  32,  92,  33,  93,  34,  94],\n",
       "       [ 42, 102,  43, 103,  44, 104,  47, 107,  48, 108,  49, 109],\n",
       "       [ 52, 112,  53, 113,  54, 114,   5,  65,   6,  66,   7,  67],\n",
       "       [ 10,  70,  11,  71,  12,  72,  15,  75,  16,  76,  17,  77],\n",
       "       [ 25,  85,  26,  86,  27,  87,  30,  90,  31,  91,  32,  92],\n",
       "       [ 35,  95,  36,  96,  37,  97,  45, 105,  46, 106,  47, 107],\n",
       "       [ 50, 110,  51, 111,  52, 112,  55, 115,  56, 116,  57, 117],\n",
       "       [  6,  66,   7,  67,   8,  68,  11,  71,  12,  72,  13,  73],\n",
       "       [ 16,  76,  17,  77,  18,  78,  26,  86,  27,  87,  28,  88],\n",
       "       [ 31,  91,  32,  92,  33,  93,  36,  96,  37,  97,  38,  98],\n",
       "       [ 46, 106,  47, 107,  48, 108,  51, 111,  52, 112,  53, 113],\n",
       "       [ 56, 116,  57, 117,  58, 118,   7,  67,   8,  68,   9,  69],\n",
       "       [ 12,  72,  13,  73,  14,  74,  17,  77,  18,  78,  19,  79],\n",
       "       [ 27,  87,  28,  88,  29,  89,  32,  92,  33,  93,  34,  94],\n",
       "       [ 37,  97,  38,  98,  39,  99,  47, 107,  48, 108,  49, 109],\n",
       "       [ 52, 112,  53, 113,  54, 114,  57, 117,  58, 118,  59, 119]])"
      ]
     },
     "execution_count": 79,
     "metadata": {},
     "output_type": "execute_result"
    }
   ],
   "source": [
    "print(x)\n",
    "cols = x[:,k,i,j]\n",
    "print('-'*10)\n",
    "cols.transpose(1,2,0).reshape(field_height*field_width*C, -1)"
   ]
  },
  {
   "cell_type": "code",
   "execution_count": 29,
   "metadata": {},
   "outputs": [
    {
     "name": "stdout",
     "output_type": "stream",
     "text": [
      "[0 0 0 0 0 0 0 0 0 1 1 1 1 1 1 1 1 1 2 2 2 2 2 2 2 2 2]\n",
      "[[0 0 0 1 1 1 2 2 2 0 0 0 1 1 1 2 2 2 0 0 0 1 1 1 2 2 2]\n",
      " [0 0 0 1 1 1 2 2 2 0 0 0 1 1 1 2 2 2 0 0 0 1 1 1 2 2 2]\n",
      " [1 1 1 2 2 2 3 3 3 1 1 1 2 2 2 3 3 3 1 1 1 2 2 2 3 3 3]\n",
      " [1 1 1 2 2 2 3 3 3 1 1 1 2 2 2 3 3 3 1 1 1 2 2 2 3 3 3]]\n",
      "[[0 1 2 0 1 2 0 1 2 0 1 2 0 1 2 0 1 2 0 1 2 0 1 2 0 1 2]\n",
      " [1 2 3 1 2 3 1 2 3 1 2 3 1 2 3 1 2 3 1 2 3 1 2 3 1 2 3]\n",
      " [0 1 2 0 1 2 0 1 2 0 1 2 0 1 2 0 1 2 0 1 2 0 1 2 0 1 2]\n",
      " [1 2 3 1 2 3 1 2 3 1 2 3 1 2 3 1 2 3 1 2 3 1 2 3 1 2 3]]\n"
     ]
    }
   ],
   "source": [
    "x[]"
   ]
  },
  {
   "cell_type": "code",
   "execution_count": 49,
   "metadata": {},
   "outputs": [
    {
     "ename": "TypeError",
     "evalue": "Required argument 'b' (pos 2) not found",
     "output_type": "error",
     "traceback": [
      "\u001b[0;31m---------------------------------------------------------------------------\u001b[0m",
      "\u001b[0;31mTypeError\u001b[0m                                 Traceback (most recent call last)",
      "\u001b[0;32m<ipython-input-49-2e108d44599a>\u001b[0m in \u001b[0;36m<module>\u001b[0;34m()\u001b[0m\n\u001b[0;32m----> 1\u001b[0;31m \u001b[0mnp\u001b[0m\u001b[0;34m.\u001b[0m\u001b[0mdot\u001b[0m\u001b[0;34m(\u001b[0m\u001b[0mnp\u001b[0m\u001b[0;34m.\u001b[0m\u001b[0marray\u001b[0m\u001b[0;34m(\u001b[0m\u001b[0;34m[\u001b[0m\u001b[0;36m1\u001b[0m\u001b[0;34m,\u001b[0m\u001b[0;36m2\u001b[0m\u001b[0;34m,\u001b[0m\u001b[0;36m3\u001b[0m\u001b[0;34m,\u001b[0m\u001b[0;36m4\u001b[0m\u001b[0;34m]\u001b[0m\u001b[0;34m)\u001b[0m\u001b[0;34m*\u001b[0m\u001b[0mnp\u001b[0m\u001b[0;34m.\u001b[0m\u001b[0marray\u001b[0m\u001b[0;34m(\u001b[0m\u001b[0;34m[\u001b[0m\u001b[0;36m1\u001b[0m\u001b[0;34m,\u001b[0m\u001b[0;36m2\u001b[0m\u001b[0;34m]\u001b[0m\u001b[0;34m)\u001b[0m\u001b[0;34m.\u001b[0m\u001b[0mreshape\u001b[0m\u001b[0;34m(\u001b[0m\u001b[0;36m2\u001b[0m\u001b[0;34m,\u001b[0m\u001b[0;36m1\u001b[0m\u001b[0;34m)\u001b[0m\u001b[0;34m)\u001b[0m\u001b[0;34m\u001b[0m\u001b[0m\n\u001b[0m",
      "\u001b[0;31mTypeError\u001b[0m: Required argument 'b' (pos 2) not found"
     ]
    }
   ],
   "source": [
    "np.dot(np.array([1,2,3,4])*np.array([1,2]).reshape(2,1))"
   ]
  },
  {
   "cell_type": "code",
   "execution_count": null,
   "metadata": {},
   "outputs": [],
   "source": []
  }
 ],
 "metadata": {
  "kernelspec": {
   "display_name": "Python 3",
   "language": "python",
   "name": "python3"
  },
  "language_info": {
   "codemirror_mode": {
    "name": "ipython",
    "version": 3
   },
   "file_extension": ".py",
   "mimetype": "text/x-python",
   "name": "python",
   "nbconvert_exporter": "python",
   "pygments_lexer": "ipython3",
   "version": "3.6.5"
  }
 },
 "nbformat": 4,
 "nbformat_minor": 2
}
