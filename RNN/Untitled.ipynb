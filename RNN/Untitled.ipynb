{
 "cells": [
  {
   "cell_type": "code",
   "execution_count": 1,
   "metadata": {
    "ExecuteTime": {
     "end_time": "2019-02-19T07:31:35.494960Z",
     "start_time": "2019-02-19T07:30:18.572743Z"
    }
   },
   "outputs": [
    {
     "name": "stdout",
     "output_type": "stream",
     "text": [
      "data shape:  (3, 6)\n",
      "initial_state:  [[0. 0. 0. 0. 0. 0.]\n",
      " [0. 0. 0. 0. 0. 0.]\n",
      " [0. 0. 0. 0. 0. 0.]]\n",
      "\n",
      "\n",
      "outputs:  Tensor(\"test/rnn/transpose_1:0\", shape=(3, 6, 5), dtype=float32)\n",
      "\n",
      " [[[-0.12756711 -1.8893006  -0.25830954 -0.45842457  0.45872414]\n",
      "  [-0.69116426 -0.46647018 -1.6921908  -0.7897278  -0.6824441 ]\n",
      "  [-0.6553759  -0.42732227 -1.7135938  -0.8279202  -0.649617  ]\n",
      "  [-0.89303714 -0.7180878  -1.5440084  -0.56051016 -0.85721946]\n",
      "  [-1.0946566  -0.9693808  -1.3960197  -0.33158404 -1.0317781 ]\n",
      "  [-0.9855349  -0.8333744  -1.4761151  -0.45548484 -0.9373025 ]]\n",
      "\n",
      " [[-0.12756711 -1.8893006  -0.25830954 -0.45842457  0.45872414]\n",
      "  [-0.69116426 -0.46647018 -1.6921908  -0.7897278  -0.6824441 ]\n",
      "  [-0.6553759  -0.42732227 -1.7135938  -0.8279202  -0.649617  ]\n",
      "  [-0.89303714 -0.7180878  -1.5440084  -0.56051016 -0.85721946]\n",
      "  [-1.0946566  -0.9693808  -1.3960197  -0.33158404 -1.0317781 ]\n",
      "  [-0.76414216 -0.56043863 -1.63591    -0.7054921  -0.74457157]]\n",
      "\n",
      " [[-0.12756711 -1.8893006  -0.25830954 -0.45842457  0.45872414]\n",
      "  [-0.31080377  0.00429642 -1.9683918  -1.2200916  -0.35197097]\n",
      "  [-1.0150204  -0.8701226  -1.4544742  -0.4220067  -0.962831  ]\n",
      "  [-0.97042876 -0.8145464  -1.4872031  -0.47263694 -0.9242238 ]\n",
      "  [-0.961667   -0.803626   -1.4936341  -0.48258537 -0.916638  ]\n",
      "  [-0.72846574 -0.5166274  -1.6615206  -0.74571395 -0.71347266]]] [[4 1 1 3 3 3]\n",
      " [4 1 1 3 3 1]\n",
      " [4 1 3 3 3 1]]\n",
      "\n",
      "\n",
      "last_state:  Tensor(\"test/rnn/while/Exit_3:0\", shape=(3, 6), dtype=float32)\n",
      "[[ 1.          0.55746555 -0.99999994 -1.          0.99999785 -1.        ]\n",
      " [ 1.          0.11994278 -0.9998718  -1.          0.997161   -1.        ]\n",
      " [ 1.          0.04953238 -0.9998687  -1.          0.9965596  -1.        ]]\n",
      "loss:             1.823115\n",
      "manual cal. loss: 1.823115 \n",
      "Done\n"
     ]
    }
   ],
   "source": [
    "# -*- coding: utf-8 -*-\n",
    "import numpy as np\n",
    "import tensorflow as tf\n",
    "tf.reset_default_graph()\n",
    "\n",
    "def dynamic_rnn_test():\n",
    "\n",
    "    vocab_size = 5\n",
    "    SOS_token = 0\n",
    "    EOS_token = 4\n",
    "    \n",
    "    x_data = np.array([[SOS_token, 3, 1, 2, 3, 2],[SOS_token, 3, 1, 2, 3, 1],[SOS_token, 1, 3, 2, 2, 1]], dtype=np.int32)\n",
    "    y_data = np.array([[1,2,0,3,2,EOS_token],[3,2,3,3,1,EOS_token],[3,1,1,2,0,EOS_token]],dtype=np.int32)\n",
    "    Y = tf.convert_to_tensor(y_data)\n",
    "    print(\"data shape: \", x_data.shape)\n",
    "    sess = tf.InteractiveSession()\n",
    "    \n",
    "    output_dim = vocab_size\n",
    "    batch_size = len(x_data)\n",
    "    hidden_dim =6\n",
    "    num_layers = 2\n",
    "    seq_length = x_data.shape[1]\n",
    "    embedding_dim = 8\n",
    "\n",
    "    init = np.arange(vocab_size*embedding_dim).reshape(vocab_size,-1)\n",
    "    \n",
    "    with tf.variable_scope('test') as scope:\n",
    "        cell = tf.contrib.rnn.BasicRNNCell(num_units=hidden_dim)\n",
    "        cell = tf.contrib.rnn.OutputProjectionWrapper(cell,output_dim)\n",
    "    \n",
    "        embedding = tf.get_variable(\"embedding\", initializer=init.astype(np.float32),dtype = tf.float32)\n",
    "        inputs = tf.nn.embedding_lookup(embedding, x_data) # batch_size  x seq_length x embedding_dim\n",
    "    \n",
    "        initial_state = cell.zero_state(batch_size, tf.float32) #(batch_size x hidden_dim) \n",
    "        outputs, last_state = tf.nn.dynamic_rnn(cell,inputs,sequence_length=[seq_length]*batch_size,initial_state=initial_state)    \n",
    "\n",
    "        weights = tf.ones(shape=[batch_size,seq_length])\n",
    "        loss =   tf.contrib.seq2seq.sequence_loss(logits=outputs, targets=Y, weights=weights)\n",
    "    \n",
    "        sess.run(tf.global_variables_initializer())\n",
    "        print(\"initial_state: \", sess.run(initial_state))\n",
    "        print(\"\\n\\noutputs: \",outputs)\n",
    "        o = sess.run(outputs)  #batch_size, seq_length, outputs\n",
    "        o2 = sess.run(tf.argmax(outputs,axis=-1))\n",
    "        print(\"\\n\",o,o2) #batch_size, seq_length, outputs\n",
    "    \n",
    "        print(\"\\n\\nlast_state: \",last_state)\n",
    "        print(sess.run(last_state)) # batch_size, hidden_dim\n",
    "      \n",
    "        p = sess.run(tf.nn.softmax(outputs)).reshape(-1,output_dim)\n",
    "        print(\"loss: {:20.6f}\".format(sess.run(loss)))\n",
    "        print(\"manual cal. loss: {:0.6f} \".format(np.average(-np.log(p[np.arange(y_data.size),y_data.flatten()]))) )\n",
    "\n",
    "if __name__ == '__main__':\n",
    "    dynamic_rnn_test()\n",
    "    print('Done')"
   ]
  },
  {
   "cell_type": "code",
   "execution_count": null,
   "metadata": {},
   "outputs": [],
   "source": []
  }
 ],
 "metadata": {
  "kernelspec": {
   "display_name": "Python 3",
   "language": "python",
   "name": "python3"
  },
  "language_info": {
   "codemirror_mode": {
    "name": "ipython",
    "version": 3
   },
   "file_extension": ".py",
   "mimetype": "text/x-python",
   "name": "python",
   "nbconvert_exporter": "python",
   "pygments_lexer": "ipython3",
   "version": "3.6.5"
  },
  "toc": {
   "base_numbering": 1,
   "nav_menu": {},
   "number_sections": true,
   "sideBar": true,
   "skip_h1_title": false,
   "title_cell": "Table of Contents",
   "title_sidebar": "Contents",
   "toc_cell": false,
   "toc_position": {},
   "toc_section_display": true,
   "toc_window_display": false
  },
  "varInspector": {
   "cols": {
    "lenName": 16,
    "lenType": 16,
    "lenVar": 40
   },
   "kernels_config": {
    "python": {
     "delete_cmd_postfix": "",
     "delete_cmd_prefix": "del ",
     "library": "var_list.py",
     "varRefreshCmd": "print(var_dic_list())"
    },
    "r": {
     "delete_cmd_postfix": ") ",
     "delete_cmd_prefix": "rm(",
     "library": "var_list.r",
     "varRefreshCmd": "cat(var_dic_list()) "
    }
   },
   "types_to_exclude": [
    "module",
    "function",
    "builtin_function_or_method",
    "instance",
    "_Feature"
   ],
   "window_display": false
  }
 },
 "nbformat": 4,
 "nbformat_minor": 2
}
