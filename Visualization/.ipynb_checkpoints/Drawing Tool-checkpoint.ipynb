{
 "cells": [
  {
   "cell_type": "code",
   "execution_count": 15,
   "metadata": {
    "ExecuteTime": {
     "end_time": "2019-02-22T08:47:29.083527Z",
     "start_time": "2019-02-22T08:47:29.079526Z"
    }
   },
   "outputs": [],
   "source": [
    "import numpy as np\n",
    "import matplotlib.pyplot as plt\n",
    "import matplotlib as mpl\n",
    "import seaborn as sns\n",
    "\n",
    "# Style\n",
    "sns.set()                      #Set Seaborn style\n",
    "sns.set_style('darkgrid')      # Tick style 'darkgrid', 'whitegrid', 'dark', 'white'\n",
    "sns.set_color_codes(\"deep\")  # How Color is interpreted 'deep', 'muted', 'pastel', 'bright', 'colorblind'\n",
    "# _ = plt.plot([0, 2], color=\"c\")\n",
    "# _ = plt.plot([0, 1], color=\"g\")\n",
    "\n",
    "\n",
    "# RC Setting\n",
    "mpl.rc('font', family='nanumgothic')   # for font\n",
    "# mpl.rc('axes', unicode_minus=False)  # for unicode\n",
    "# mpl.rc('figure', figsize=(8, 5))     # figure size (unit: inch)\n",
    "# mpl.rc('figure', dpi=300)            # figure resolution\n",
    "\n",
    "\n",
    "# Color Setting\n",
    "sns.palplot(sns.color_palette(\"hls\", 8)) #hue, light, saturation\n",
    "sns.palplot(sns.hls_palette(8, l=.3, s=.8))\n",
    "sns.palplot(sns.color_palette(\"Paired\"))\n",
    "sns.palplot(sns.color_palette(\"Set2\"))\n",
    "flatui = [\"#9b59b6\", \"#3498db\", \"#95a5a6\", \"#e74c3c\", \"#34495e\", \"#2ecc71\"]\n",
    "sns.palplot(sns.color_palette(flatui)) # User Defined Color\n",
    "colors = [\"windows blue\", \"amber\", \"greyish\", \"faded green\", \"dusty purple\"]\n",
    "sns.palplot(sns.xkcd_palette(colors)) #xkcd Color Set\n",
    "sns.palplot(sns.color_palette(\"Blues\"))\n",
    "sns.palplot(sns.color_palette(\"BuGn_r\"))\n",
    "sns.palplot(sns.color_palette(\"GnBu_d\"))\n",
    "sns.palplot(sns.color_palette(\"cubehelix\", 8))"
   ]
  },
  {
   "cell_type": "code",
   "execution_count": 19,
   "metadata": {
    "ExecuteTime": {
     "end_time": "2019-02-22T08:56:00.029818Z",
     "start_time": "2019-02-22T08:56:00.014814Z"
    }
   },
   "outputs": [
    {
     "name": "stdout",
     "output_type": "stream",
     "text": [
      "[(0.86, 0.3712, 0.33999999999999997), (0.86, 0.7612000000000001, 0.33999999999999997), (0.5688000000000001, 0.86, 0.33999999999999997), (0.33999999999999997, 0.86, 0.5012000000000001), (0.33999999999999997, 0.8287999999999999, 0.86), (0.33999999999999997, 0.43879999999999986, 0.86), (0.6311999999999998, 0.33999999999999997, 0.86), (0.86, 0.33999999999999997, 0.6987999999999996)]\n"
     ]
    }
   ],
   "source": [
    "current_palette = sns.color_palette(\"hls\", 8)\n",
    "print(current_palette)"
   ]
  },
  {
   "cell_type": "code",
   "execution_count": 20,
   "metadata": {
    "ExecuteTime": {
     "end_time": "2019-02-22T08:56:02.200307Z",
     "start_time": "2019-02-22T08:56:02.150295Z"
    }
   },
   "outputs": [
    {
     "data": {
      "image/png": "[encoded data removed]",
      "text/plain": [
       "<Figure size 576x72 with 1 Axes>"
      ]
     },
     "metadata": {},
     "output_type": "display_data"
    }
   ],
   "source": [
    "sns.palplot(current_palette)"
   ]
  },
  {
   "cell_type": "code",
   "execution_count": 18,
   "metadata": {
    "ExecuteTime": {
     "end_time": "2019-02-22T08:48:23.024844Z",
     "start_time": "2019-02-22T08:48:23.020841Z"
    }
   },
   "outputs": [
    {
     "name": "stdout",
     "output_type": "stream",
     "text": [
      "<matplotlib.colors.ListedColormap object at 0x000002AE6B7B92E8>\n"
     ]
    }
   ],
   "source": [
    "cmap = mpl.colors.ListedColormap(['red', 'green', 'skyblue', 'orange', 'cyan'])\n",
    "print(cmap)"
   ]
  },
  {
   "cell_type": "code",
   "execution_count": null,
   "metadata": {},
   "outputs": [],
   "source": []
  }
 ],
 "metadata": {
  "kernelspec": {
   "display_name": "Python 3",
   "language": "python",
   "name": "python3"
  },
  "language_info": {
   "codemirror_mode": {
    "name": "ipython",
    "version": 3
   },
   "file_extension": ".py",
   "mimetype": "text/x-python",
   "name": "python",
   "nbconvert_exporter": "python",
   "pygments_lexer": "ipython3",
   "version": "3.6.5"
  },
  "toc": {
   "base_numbering": 1,
   "nav_menu": {},
   "number_sections": true,
   "sideBar": true,
   "skip_h1_title": false,
   "title_cell": "Table of Contents",
   "title_sidebar": "Contents",
   "toc_cell": false,
   "toc_position": {},
   "toc_section_display": true,
   "toc_window_display": false
  },
  "varInspector": {
   "cols": {
    "lenName": 16,
    "lenType": 16,
    "lenVar": 40
   },
   "kernels_config": {
    "python": {
     "delete_cmd_postfix": "",
     "delete_cmd_prefix": "del ",
     "library": "var_list.py",
     "varRefreshCmd": "print(var_dic_list())"
    },
    "r": {
     "delete_cmd_postfix": ") ",
     "delete_cmd_prefix": "rm(",
     "library": "var_list.r",
     "varRefreshCmd": "cat(var_dic_list()) "
    }
   },
   "types_to_exclude": [
    "module",
    "function",
    "builtin_function_or_method",
    "instance",
    "_Feature"
   ],
   "window_display": false
  }
 },
 "nbformat": 4,
 "nbformat_minor": 2
}
